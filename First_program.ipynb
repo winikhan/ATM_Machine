{
  "nbformat": 4,
  "nbformat_minor": 0,
  "metadata": {
    "colab": {
      "provenance": [],
      "authorship_tag": "ABX9TyMypc0vUz06DK1XSU4gK8yO",
      "include_colab_link": true
    },
    "kernelspec": {
      "name": "python3",
      "display_name": "Python 3"
    },
    "language_info": {
      "name": "python"
    }
  },
  "cells": [
    {
      "cell_type": "markdown",
      "metadata": {
        "id": "view-in-github",
        "colab_type": "text"
      },
      "source": [
        "<a href=\"https://colab.research.google.com/github/winikhan/ATM_Machine/blob/main/First_program.ipynb\" target=\"_parent\"><img src=\"https://colab.research.google.com/assets/colab-badge.svg\" alt=\"Open In Colab\"/></a>"
      ]
    },
    {
      "cell_type": "code",
      "execution_count": 5,
      "metadata": {
        "colab": {
          "base_uri": "https://localhost:8080/"
        },
        "id": "kx3wFGyzKpl5",
        "outputId": "1076f0ec-7fbf-48b0-85f5-721d4542002d"
      },
      "outputs": [
        {
          "output_type": "stream",
          "name": "stdout",
          "text": [
            "Waniza Khan\n",
            "\"Hello, Python Leraners!. Today is the fisrt step in your coding journey\" \n"
          ]
        }
      ],
      "source": [
        "print(\"Waniza Khan\")\n",
        "print('\"Hello, Python Leraners!. Today is the fisrt step in your coding journey\" ')"
      ]
    }
  ]
}